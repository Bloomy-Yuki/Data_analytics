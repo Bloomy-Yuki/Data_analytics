{
 "cells": [
  {
   "cell_type": "markdown",
   "id": "bda5a056-3d3a-4086-a2d3-13828ade6828",
   "metadata": {},
   "source": [
    "# Project : William Lowell Putnam Mathematical Competition\n",
    "\n",
    "## 1. Task and purpose\n",
    "---\n",
    "**Task and Scenario**: The project aims to create an overview of the problems presented at the putnam mathematics\n",
    "competition in order to invistigate the difficulty of problems and how challenging it is to solve these problems. this is done\n",
    "through plotting the ratio of people who attempt to solve the problem against the ratio of those who got near full score to those who\n",
    "attempted to solve it, hoping to get an insight to how \"surprising\" it is to solve these problems. Ultimatly hoping to know which problems \n",
    "would the best to practice on in order to improve the results of a team using the outliers.\n",
    "\n",
    "> Data sources: \n",
    ">\n",
    "> [ The Putnam Archive ](https://kskedlaya.org/putnam-archive/) official results and distribution\n",
    "\n",
    "\n",
    " Checking the webpages we can see that the scraping of the data is straightforward, writing the second table to a dataframe and transposing\n",
    " it in order to parse all the data in .csv file.\n",
    " \n",
    "## 2. Process description\n",
    "---\n",
    "1. A .r script was used originally used to scrape the data, and then the code segments got written into a Jupyter notebook ilustrating the \n",
    "   process of obtaining the data and saving in in the \"Files\\\" Directory. \n",
    "  \n",
    "2. The data table then got imported into google sheets to perform cleaning and praparation for analysis and viualisation.\n",
    "\n",
    "3. A Tableau Dashbboard was then Made with the intent of conveying the findings.\n",
    "\n",
    "\n",
    "Analysis and visualizations on [Tableau](https://public.tableau.com/views/WilliamLowellPutnamMathematicalCompetition-DataandDifficulty/Dashboard1?:language=en-GB&:sid=&:display_count=n&:origin=viz_share_link)"
   ]
  },
  {
   "cell_type": "markdown",
   "id": "116da6a4-2cef-4d2a-8116-1525cbe56b86",
   "metadata": {},
   "source": [
    "### 3. Conclusion\n",
    "---\n",
    "> The dashboard seems to an apparent correlation between ratio of participation and ratio of near full score\n",
    "> with some outlier that might seems to indicate a surprising difficulty when attempting to solve the problem\n",
    "\n",
    "> In a future training scenario, using problems towards the lower values indicate more difficulty and surprising \n",
    "> solution tactics, and would be recommended to train a team in order to prepare to participate in the Putnam mathematics\n",
    "> competetion"
   ]
  },
  {
   "cell_type": "code",
   "execution_count": 2,
   "id": "84ff2c15-6735-45b1-a60d-077b7ba4320d",
   "metadata": {},
   "outputs": [
    {
     "data": {
      "text/html": [
       "<html>\n",
       "    <div class='tableauPlaceholder' id='viz1714903451231' style='position: relative'><noscript><a href='#'><img alt='William Lowell Putnam Mathematical Competition - Data and Difficulty. ' src='https:&#47;&#47;public.tableau.com&#47;static&#47;images&#47;Wi&#47;WilliamLowellPutnamMathematicalCompetition-DataandDifficulty&#47;Dashboard1&#47;1_rss.png' style='border: none' /></a></noscript><object class='tableauViz'  style='display:none;'><param name='host_url' value='https%3A%2F%2Fpublic.tableau.com%2F' /> <param name='embed_code_version' value='3' /> <param name='site_root' value='' /><param name='name' value='WilliamLowellPutnamMathematicalCompetition-DataandDifficulty&#47;Dashboard1' /><param name='tabs' value='no' /><param name='toolbar' value='yes' /><param name='static_image' value='https:&#47;&#47;public.tableau.com&#47;static&#47;images&#47;Wi&#47;WilliamLowellPutnamMathematicalCompetition-DataandDifficulty&#47;Dashboard1&#47;1.png' /> <param name='animate_transition' value='yes' /><param name='display_static_image' value='yes' /><param name='display_spinner' value='yes' /><param name='display_overlay' value='yes' /><param name='display_count' value='yes' /><param name='language' value='en-GB' /></object></div>                <script type='text/javascript'>                    var divElement = document.getElementById('viz1714903451231');                    var vizElement = divElement.getElementsByTagName('object')[0];                    if ( divElement.offsetWidth > 800 ) { vizElement.style.width='1024px';vizElement.style.height='795px';} else if ( divElement.offsetWidth > 500 ) { vizElement.style.width='1024px';vizElement.style.height='795px';} else { vizElement.style.width='100%';vizElement.style.height='1027px';}                     var scriptElement = document.createElement('script');                    scriptElement.src = 'https://public.tableau.com/javascripts/api/viz_v1.js';                    vizElement.parentNode.insertBefore(scriptElement, vizElement);                </script>\n",
       "</html>"
      ],
      "text/plain": [
       "<IPython.core.display.HTML object>"
      ]
     },
     "metadata": {},
     "output_type": "display_data"
    }
   ],
   "source": [
    "#Python code\n",
    "from IPython.display import display, HTML\n",
    "display(HTML(\"Files/Dashboard_link.html\"))"
   ]
  }
 ],
 "metadata": {
  "kernelspec": {
   "display_name": "Python 3 (ipykernel)",
   "language": "python",
   "name": "python3"
  },
  "language_info": {
   "codemirror_mode": {
    "name": "ipython",
    "version": 3
   },
   "file_extension": ".py",
   "mimetype": "text/x-python",
   "name": "python",
   "nbconvert_exporter": "python",
   "pygments_lexer": "ipython3",
   "version": "3.11.0"
  }
 },
 "nbformat": 4,
 "nbformat_minor": 5
}
