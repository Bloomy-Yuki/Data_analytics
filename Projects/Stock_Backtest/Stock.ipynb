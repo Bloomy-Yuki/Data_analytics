{
 "cells": [
  {
   "cell_type": "markdown",
   "id": "d1e6c0d8-7fdc-43ea-a522-919fb052c7b9",
   "metadata": {},
   "source": [
    "## Notebook for Stock Backtest\n",
    "### 1. General Idea\n",
    "---\n",
    "this project aims to investigate the potential of past stock performance on daily trading strategy. the algorithm to calculate \n",
    "the result can be summarized as:\n",
    "\n",
    " > 1. obtaining a historical record of stock prices\n",
    " > 2. calculate the daily yield of investing a set amount of money\n",
    " > 3. based on other measures, the compounding factor for the amount to be invested will be adjusted\n",
    " > 4. plot the result with python libraries"
   ]
  },
  {
   "cell_type": "code",
   "execution_count": 2,
   "id": "2b037486-02a1-4fa8-9663-0413886ad350",
   "metadata": {},
   "outputs": [],
   "source": [
    "# importing libraries\n",
    "\n",
    "from pandas import *\n",
    "from matplotlib import pyplot"
   ]
  },
  {
   "cell_type": "markdown",
   "id": "208c1512-1b78-4f8d-bc8d-6594b9a56413",
   "metadata": {},
   "source": [
    "### 2. parameters\n",
    "--- \n",
    "these are the main parameters to be defined, you can change them manually to adjust to your trading broker \n",
    "and their fees."
   ]
  },
  {
   "cell_type": "code",
   "execution_count": 82,
   "id": "c907f2b9-55d4-45d9-92d1-02bff6fe91ff",
   "metadata": {},
   "outputs": [],
   "source": [
    "# declaring lists for the information to be imported \n",
    "\n",
    "Low_price = [] #dummy variable to store the lowest stock price within the trading day \n",
    "Closing_price = [] #dummy variable to store the closing price \n",
    "Daily_change = [] #calculated percentage of change betweent the closing prices \n",
    "Horizon_average = [] #calculated fraction of positive yield trading days to the horizen\n",
    "Strategy = [] #the main list to be filled\n",
    "Stop_loss = -0.01 #stoploss as fraction of the stock price\n",
    "Costs = -0.000311 #costs of excuting the trade as fraction of the stock price\n",
    "Leverage = 20 #leverage \n",
    "Horizon = 150 #lenght of days to consider for postive or negative trading period\n",
    "Upper_compound = 10 #upper bound of compounding\n",
    "Lower_compound = 4 #lower bound of compounding\n",
    "Horizon_thresh = 0.51 #values of trading days returning positive yield in the horizon period larger than this fraction would result in \n",
    "                      #changing to the lower compounding factor\n"
   ]
  },
  {
   "cell_type": "code",
   "execution_count": 83,
   "id": "9002557c-c332-47d8-9c82-2e8065bb4d7b",
   "metadata": {},
   "outputs": [],
   "source": [
    "# I/O inserting values into lists low_price, Closing_price\n",
    "\n",
    "data = read_csv(\"Files/NDX.csv\") #this is an example of .csv file, you can put the path to your own here\n",
    "Closing_price = data['Close'].tolist()\n",
    "Low_price = data['Low'].tolist()\n"
   ]
  },
  {
   "cell_type": "markdown",
   "id": "6b0b5ac4-6bdd-41ed-9bc7-5aa541368571",
   "metadata": {},
   "source": [
    "### 3. Generating the list of the Backtest\n",
    "---\n",
    "the following code calculates the result using the following outlines:\n",
    "\n",
    "1. **the yield is positive**: calculate the yield from a set amount of money with compounding factors obtained \n",
    "   from the horizon average.\n",
    "2. **the yield is negative**: calculate the negative yield from stoploss and a set amount of money with compounding factors obtained \n",
    "   from the horizon average.\n",
    "3. after calculating the yield, the amount is added or subtracted to a pool of money describing the total yield"
   ]
  },
  {
   "cell_type": "code",
   "execution_count": 84,
   "id": "8ed4b886-18b5-462e-8097-c9d95e39dc8e",
   "metadata": {},
   "outputs": [],
   "source": [
    "# Filling the Daily_change list with values \n",
    "# *Notice that it doesnt reflect stop loss, but merely an indicator for the Stock trend \n",
    "\n",
    "Daily_change.append(0)\n",
    "for day in range(1, len(Closing_price)):\n",
    "    Daily_change.append( (Closing_price[day] - Closing_price[day - 1 ])/Closing_price[day - 1 ]) \n"
   ]
  },
  {
   "cell_type": "code",
   "execution_count": 85,
   "id": "99d80e2f-6fa3-453d-874c-28443b905626",
   "metadata": {},
   "outputs": [],
   "source": [
    "# Filling horizon average indicator\n",
    "# *Using this to compute the compounding factor\n",
    "        \n",
    "for number in range(0, len(Closing_price)):\n",
    "    #dummy variable to represent the ratio of positive trading days in horizon \n",
    "    success_rate = 0\n",
    "    #loop to check all previous days to calculate the last number\n",
    "    for day in range(0,Horizon):\n",
    "        if Daily_change[number - day -1] > 0:\n",
    "            success_rate += 1\n",
    "    Horizon_average.append( success_rate/Horizon )\n",
    "\n"
   ]
  },
  {
   "cell_type": "code",
   "execution_count": 86,
   "id": "cc7bd42b-d181-490c-9953-71f9daa381ac",
   "metadata": {},
   "outputs": [],
   "source": [
    "# Strategy filling\n",
    "#first day is 0 due to not having a previous day in the data    \n",
    "Strategy.append(0)\n",
    "\n",
    "#the main loop of the program, filling the strategy list\n",
    "for number in range(1, len(Closing_price)):\n",
    "    \n",
    "    #determining the compounding factor\n",
    "    if Horizon_average[number - 1] < Horizon_thresh:\n",
    "        compound = Upper_compound\n",
    "    else:\n",
    "        compound = Lower_compound\n",
    "          \n",
    "    #if the total number of yields is greater than 2, then compounding should take place\n",
    "    if Strategy[number - 1] > 2:\n",
    "        multi = 1 + (Strategy[number -1] - 1)/compound\n",
    "    else:\n",
    "        multi = 1\n",
    "         \n",
    "    #substracting the losses if the stock price falls under the threshhold of the stoploss\n",
    "    if (Low_price[number] - Closing_price[number - 1])/Closing_price[number - 1] < Stop_loss - Costs :\n",
    "\n",
    "        Strategy.append( Stop_loss*Leverage*multi + Strategy[number - 1] )\n",
    "    \n",
    "    #calculating the total returns if the yield is larger than the stoploss threshhold, using the leverage and other parameters\n",
    "    else:\n",
    "        \n",
    "        Strategy.append(((Closing_price[number] - Closing_price[number - 1 ])/Closing_price[number - 1] + (Costs if (number + 1) % 5 != 0 else 3*Costs))*Leverage*multi + Strategy[number - 1])\n",
    "        # modular division should be changed according to the day of the week of trading(Monday by default)"
   ]
  },
  {
   "cell_type": "markdown",
   "id": "88679874-5478-4938-9ecb-096ba5624c56",
   "metadata": {},
   "source": [
    "### 4. plotting the end result\n",
    "---\n",
    "using simple pyplot code to plot the end result."
   ]
  },
  {
   "cell_type": "code",
   "execution_count": 87,
   "id": "fb3b6829-ff53-4ab4-b93e-e639446e7689",
   "metadata": {},
   "outputs": [
    {
     "data": {
      "image/png": "[encoded data removed]",
      "text/plain": [
       "<Figure size 640x480 with 1 Axes>"
      ]
     },
     "metadata": {},
     "output_type": "display_data"
    }
   ],
   "source": [
    "# Run \n",
    "        \n",
    "pyplot.plot(Strategy)\n",
    "pyplot.show()"
   ]
  }
 ],
 "metadata": {
  "kernelspec": {
   "display_name": "Python 3 (ipykernel)",
   "language": "python",
   "name": "python3"
  },
  "language_info": {
   "codemirror_mode": {
    "name": "ipython",
    "version": 3
   },
   "file_extension": ".py",
   "mimetype": "text/x-python",
   "name": "python",
   "nbconvert_exporter": "python",
   "pygments_lexer": "ipython3",
   "version": "3.11.0"
  }
 },
 "nbformat": 4,
 "nbformat_minor": 5
}
