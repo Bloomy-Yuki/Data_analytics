{
 "cells": [
  {
   "cell_type": "markdown",
   "id": "dcbdf722-7865-43fe-a795-d3f646daa727",
   "metadata": {},
   "source": [
    "# Project : Stock Backtest\n",
    "\n",
    "## 1. Task and purpose\n",
    "---\n",
    "**Task and Scenario**: when deciding to assess the profitability of a stock, it is often useful to backtest your strategy\n",
    "on historical data, this program and notebook aims to do just that, basically assessing the viability of investing in a stock\n",
    "for every trading day (making use of the fact that the expected value of a stock is larger than 0) and compounding the daily yield based on\n",
    "some indicators (mainly fraction of positive returns in the last n days).\n",
    "\n",
    "> Data sources: \n",
    ">\n",
    "> [ Yahoo Finance ](https://finance.yahoo.com/) is a good source for stock price historical data\n",
    "\n",
    "\n",
    "accompanying this markdown file is a Jupyter Notebook with guides on how to use the code to backtest the stock of your own choice.\n",
    "\n",
    "## 2. Process description\n",
    "---\n",
    "1. A .py file was written to have a prototype of a program to do the task of backtesting said strategy \n",
    "  \n",
    "2. A Jupyter Notebook was then written to document the data and guide futre development\n"
   ]
  },
  {
   "cell_type": "markdown",
   "id": "329432e6-640d-443c-9ddf-19ba8ccab56d",
   "metadata": {},
   "source": [
    "### 3. Conclusion\n",
    "---\n",
    "> the project can be used to assess good places to trade based on fees and other offers, getting the right\n",
    "> broker can have a determental effect on projits, taxes are not taken into account, so keep that in mind\n",
    "> when wanting to implement said program\n",
    "\n",
    "\n",
    "\n",
    "Disclaimert: this is not financial Advice"
   ]
  }
 ],
 "metadata": {
  "kernelspec": {
   "display_name": "Python 3 (ipykernel)",
   "language": "python",
   "name": "python3"
  },
  "language_info": {
   "codemirror_mode": {
    "name": "ipython",
    "version": 3
   },
   "file_extension": ".py",
   "mimetype": "text/x-python",
   "name": "python",
   "nbconvert_exporter": "python",
   "pygments_lexer": "ipython3",
   "version": "3.11.0"
  }
 },
 "nbformat": 4,
 "nbformat_minor": 5
}
