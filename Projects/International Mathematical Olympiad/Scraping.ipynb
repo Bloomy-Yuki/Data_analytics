{
 "cells": [
  {
   "cell_type": "markdown",
   "id": "4b204873",
   "metadata": {},
   "source": [
    "## An R Markdown file to scrape the data from [IMO official website](https://www.imo-official.org/)\n",
    "### General Idea\n",
    "\n",
    "fist we need to get the link to the problems and use some variable date to scrape\n",
    "the tables and change it to a data frame, then clean each table individually and lastly\n",
    "parsing them all together and saving the result as a .csv file for later cleaning\n",
    "and analysis."
   ]
  },
  {
   "cell_type": "code",
   "execution_count": 2,
   "id": "b4093197",
   "metadata": {},
   "outputs": [
    {
     "name": "stderr",
     "output_type": "stream",
     "text": [
      "── \u001b[1mAttaching core tidyverse packages\u001b[22m ──────────────────────────────────────────────────────────────── tidyverse 2.0.0 ──\n",
      "\u001b[32m✔\u001b[39m \u001b[34mdplyr    \u001b[39m 1.1.4     \u001b[32m✔\u001b[39m \u001b[34mreadr    \u001b[39m 2.1.5\n",
      "\u001b[32m✔\u001b[39m \u001b[34mforcats  \u001b[39m 1.0.0     \u001b[32m✔\u001b[39m \u001b[34mstringr  \u001b[39m 1.5.1\n",
      "\u001b[32m✔\u001b[39m \u001b[34mggplot2  \u001b[39m 3.5.0     \u001b[32m✔\u001b[39m \u001b[34mtibble   \u001b[39m 3.2.1\n",
      "\u001b[32m✔\u001b[39m \u001b[34mlubridate\u001b[39m 1.9.3     \u001b[32m✔\u001b[39m \u001b[34mtidyr    \u001b[39m 1.3.1\n",
      "\u001b[32m✔\u001b[39m \u001b[34mpurrr    \u001b[39m 1.0.2     \n",
      "── \u001b[1mConflicts\u001b[22m ────────────────────────────────────────────────────────────────────────────────── tidyverse_conflicts() ──\n",
      "\u001b[31m✖\u001b[39m \u001b[34mdplyr\u001b[39m::\u001b[32mfilter()\u001b[39m         masks \u001b[34mstats\u001b[39m::filter()\n",
      "\u001b[31m✖\u001b[39m \u001b[34mreadr\u001b[39m::\u001b[32mguess_encoding()\u001b[39m masks \u001b[34mrvest\u001b[39m::guess_encoding()\n",
      "\u001b[31m✖\u001b[39m \u001b[34mdplyr\u001b[39m::\u001b[32mlag()\u001b[39m            masks \u001b[34mstats\u001b[39m::lag()\n",
      "\u001b[36mℹ\u001b[39m Use the conflicted package (\u001b[3m\u001b[34m<http://conflicted.r-lib.org/>\u001b[39m\u001b[23m) to force all conflicts to become errors\n"
     ]
    }
   ],
   "source": [
    "#Loading the tidyverse\n",
    "library(rvest)\n",
    "library(tidyverse)"
   ]
  },
  {
   "cell_type": "markdown",
   "id": "fc272f02",
   "metadata": {},
   "source": [
    "### Scraping the first table\n",
    "\n",
    "We need to establish a fist table, as a basis for all our clean ones to get parsed into.\n",
    "and as such we start by using the link and some functions to do so"
   ]
  },
  {
   "cell_type": "code",
   "execution_count": 3,
   "id": "ac63acb1",
   "metadata": {},
   "outputs": [
    {
     "data": {
      "text/html": [
       "<table class=\"dataframe\">\n",
       "<caption>A data.frame: 8 × 8</caption>\n",
       "<thead>\n",
       "\t<tr><th></th><th scope=col>Problem Number</th><th scope=col>P1</th><th scope=col>P2</th><th scope=col>P3</th><th scope=col>P4</th><th scope=col>P5</th><th scope=col>P6</th><th scope=col>Problem_year</th></tr>\n",
       "\t<tr><th></th><th scope=col>&lt;chr&gt;</th><th scope=col>&lt;dbl&gt;</th><th scope=col>&lt;dbl&gt;</th><th scope=col>&lt;dbl&gt;</th><th scope=col>&lt;dbl&gt;</th><th scope=col>&lt;dbl&gt;</th><th scope=col>&lt;dbl&gt;</th><th scope=col>&lt;dbl&gt;</th></tr>\n",
       "</thead>\n",
       "<tbody>\n",
       "\t<tr><th scope=row>1</th><td>Num( P# = 0 )</td><td> 32</td><td>60</td><td>153</td><td>61</td><td>113</td><td>57</td><td>1985</td></tr>\n",
       "\t<tr><th scope=row>2</th><td>Num( P# = 1 )</td><td> 46</td><td>27</td><td> 27</td><td>28</td><td> 21</td><td>74</td><td>1985</td></tr>\n",
       "\t<tr><th scope=row>3</th><td>Num( P# = 2 )</td><td> 11</td><td> 8</td><td>  8</td><td>46</td><td> 20</td><td>19</td><td>1985</td></tr>\n",
       "\t<tr><th scope=row>4</th><td>Num( P# = 3 )</td><td>  9</td><td> 9</td><td>  5</td><td>18</td><td>  7</td><td>13</td><td>1985</td></tr>\n",
       "\t<tr><th scope=row>5</th><td>Num( P# = 4 )</td><td>  4</td><td> 3</td><td>  1</td><td>16</td><td>  7</td><td> 9</td><td>1985</td></tr>\n",
       "\t<tr><th scope=row>6</th><td>Num( P# = 5 )</td><td>  2</td><td> 4</td><td>  0</td><td> 6</td><td>  5</td><td>10</td><td>1985</td></tr>\n",
       "\t<tr><th scope=row>7</th><td>Num( P# = 6 )</td><td>  2</td><td> 6</td><td>  3</td><td> 2</td><td>  1</td><td> 4</td><td>1985</td></tr>\n",
       "\t<tr><th scope=row>8</th><td>Num( P# = 7 )</td><td>103</td><td>92</td><td> 12</td><td>32</td><td> 35</td><td>23</td><td>1985</td></tr>\n",
       "</tbody>\n",
       "</table>\n"
      ],
      "text/latex": [
       "A data.frame: 8 × 8\n",
       "\\begin{tabular}{r|llllllll}\n",
       "  & Problem Number & P1 & P2 & P3 & P4 & P5 & P6 & Problem\\_year\\\\\n",
       "  & <chr> & <dbl> & <dbl> & <dbl> & <dbl> & <dbl> & <dbl> & <dbl>\\\\\n",
       "\\hline\n",
       "\t1 & Num( P\\# = 0 ) &  32 & 60 & 153 & 61 & 113 & 57 & 1985\\\\\n",
       "\t2 & Num( P\\# = 1 ) &  46 & 27 &  27 & 28 &  21 & 74 & 1985\\\\\n",
       "\t3 & Num( P\\# = 2 ) &  11 &  8 &   8 & 46 &  20 & 19 & 1985\\\\\n",
       "\t4 & Num( P\\# = 3 ) &   9 &  9 &   5 & 18 &   7 & 13 & 1985\\\\\n",
       "\t5 & Num( P\\# = 4 ) &   4 &  3 &   1 & 16 &   7 &  9 & 1985\\\\\n",
       "\t6 & Num( P\\# = 5 ) &   2 &  4 &   0 &  6 &   5 & 10 & 1985\\\\\n",
       "\t7 & Num( P\\# = 6 ) &   2 &  6 &   3 &  2 &   1 &  4 & 1985\\\\\n",
       "\t8 & Num( P\\# = 7 ) & 103 & 92 &  12 & 32 &  35 & 23 & 1985\\\\\n",
       "\\end{tabular}\n"
      ],
      "text/markdown": [
       "\n",
       "A data.frame: 8 × 8\n",
       "\n",
       "| <!--/--> | Problem Number &lt;chr&gt; | P1 &lt;dbl&gt; | P2 &lt;dbl&gt; | P3 &lt;dbl&gt; | P4 &lt;dbl&gt; | P5 &lt;dbl&gt; | P6 &lt;dbl&gt; | Problem_year &lt;dbl&gt; |\n",
       "|---|---|---|---|---|---|---|---|---|\n",
       "| 1 | Num( P# = 0 ) |  32 | 60 | 153 | 61 | 113 | 57 | 1985 |\n",
       "| 2 | Num( P# = 1 ) |  46 | 27 |  27 | 28 |  21 | 74 | 1985 |\n",
       "| 3 | Num( P# = 2 ) |  11 |  8 |   8 | 46 |  20 | 19 | 1985 |\n",
       "| 4 | Num( P# = 3 ) |   9 |  9 |   5 | 18 |   7 | 13 | 1985 |\n",
       "| 5 | Num( P# = 4 ) |   4 |  3 |   1 | 16 |   7 |  9 | 1985 |\n",
       "| 6 | Num( P# = 5 ) |   2 |  4 |   0 |  6 |   5 | 10 | 1985 |\n",
       "| 7 | Num( P# = 6 ) |   2 |  6 |   3 |  2 |   1 |  4 | 1985 |\n",
       "| 8 | Num( P# = 7 ) | 103 | 92 |  12 | 32 |  35 | 23 | 1985 |\n",
       "\n"
      ],
      "text/plain": [
       "  Problem Number P1  P2 P3  P4 P5  P6 Problem_year\n",
       "1 Num( P# = 0 )   32 60 153 61 113 57 1985        \n",
       "2 Num( P# = 1 )   46 27  27 28  21 74 1985        \n",
       "3 Num( P# = 2 )   11  8   8 46  20 19 1985        \n",
       "4 Num( P# = 3 )    9  9   5 18   7 13 1985        \n",
       "5 Num( P# = 4 )    4  3   1 16   7  9 1985        \n",
       "6 Num( P# = 5 )    2  4   0  6   5 10 1985        \n",
       "7 Num( P# = 6 )    2  6   3  2   1  4 1985        \n",
       "8 Num( P# = 7 )  103 92  12 32  35 23 1985        "
      ]
     },
     "metadata": {},
     "output_type": "display_data"
    }
   ],
   "source": [
    "#declaring a url variable\n",
    "url <- 'https://www.imo-official.org/year_statistics.aspx?year=1985'\n",
    "\n",
    "#using pipes to load the table into the data frame dummy variable df\n",
    "read_html(url) %>% html_table() %>% data.frame() -> df\n",
    "\n",
    "#removing extra rows\n",
    "df <- df[-c(9:20),]\n",
    "\n",
    "#adding a name to the first column, since it doesn't have one in the webpage\n",
    "colnames(df)[1] = \"Problem Number\"\n",
    "\n",
    "#adding the year to the table\n",
    "df <- df %>% mutate(Problem_year = 1985)\n",
    "\n",
    "#our log super table, establishing log as the table where all the other tables will\n",
    "#get parsed\n",
    "log = df\n",
    "log"
   ]
  },
  {
   "cell_type": "markdown",
   "id": "223acede",
   "metadata": {},
   "source": [
    "### Looping through the years\n",
    "\n",
    "Now all that we have to do is to use a for-loop to repeat the process and append\n",
    "every table of every year to the log super-table, this can be achieved as follows:"
   ]
  },
  {
   "cell_type": "code",
   "execution_count": 5,
   "id": "7dcf80d9",
   "metadata": {},
   "outputs": [],
   "source": [
    "#creating a list of years to be scraped \n",
    "Dates <- c(1986:2023)\n",
    "\n",
    "#start of for-loop\n",
    "for (year in Dates){\n",
    "  \n",
    "  #pasting the year as a string to the end of each URL to get the desired webpage\n",
    "  url <- paste('https://www.imo-official.org/year_statistics.aspx?year=',toString(year),sep =\"\")\n",
    "  \n",
    "  #using the df dummy variable to store the scraped raw data\n",
    "  url %>% read_html %>% html_table() %>% data.frame() -> df\n",
    "  \n",
    "  #removing unwanted rows\n",
    "  df <- df[-c(9:20),]\n",
    "  \n",
    "  #filling the empty column name\n",
    "  colnames(df)[1] = \"Problem Number\"\n",
    "  \n",
    "  #adding the year as an extra column and to make later cleaning easier\n",
    "  df <- df %>% mutate(Problem_year = year)\n",
    "  \n",
    "  #adding the dummy variable df's table to the log super-table, and preparing to\n",
    "  #repeat the loop\n",
    "  log <- bind_rows(log, df)\n",
    "\n",
    "}"
   ]
  },
  {
   "cell_type": "markdown",
   "id": "54b064c1",
   "metadata": {},
   "source": [
    "## Saving the results as .csv\n",
    "\n",
    "Analysis and visualizations on [Tableau](https://public.tableau.com/views/InternationalMathematicalOlympiadDataCategoryandDifficulty/Dashboard1?:language=en-GB&:sid=&:display_count=n&:origin=viz_share_link)"
   ]
  },
  {
   "cell_type": "code",
   "execution_count": 7,
   "id": "668019d1",
   "metadata": {
    "tags": []
   },
   "outputs": [],
   "source": [
    "write.csv(log, \"Name_of_your_file.csv\")"
   ]
  },
  {
   "cell_type": "code",
   "execution_count": 1,
   "id": "1fc286cf-bafa-4a73-a9da-912454c8561c",
   "metadata": {},
   "outputs": [
    {
     "data": {
      "text/html": [
       "\n",
       "<div class='tableauPlaceholder' id='viz1712125970061' style='position: relative'><noscript><a href='#'><img alt='Dashboard 1 ' src='https:&#47;&#47;public.tableau.com&#47;static&#47;images&#47;In&#47;InternationalMathematicalOlympiadDataCategoryandDifficulty&#47;Dashboard1&#47;1_rss.png' style='border: none' /></a></noscript><object class='tableauViz'  style='display:none;'><param name='host_url' value='https%3A%2F%2Fpublic.tableau.com%2F' /> <param name='embed_code_version' value='3' /> <param name='site_root' value='' /><param name='name' value='InternationalMathematicalOlympiadDataCategoryandDifficulty&#47;Dashboard1' /><param name='tabs' value='no' /><param name='toolbar' value='yes' /><param name='static_image' value='https:&#47;&#47;public.tableau.com&#47;static&#47;images&#47;In&#47;InternationalMathematicalOlympiadDataCategoryandDifficulty&#47;Dashboard1&#47;1.png' /> <param name='animate_transition' value='yes' /><param name='display_static_image' value='yes' /><param name='display_spinner' value='yes' /><param name='display_overlay' value='yes' /><param name='display_count' value='yes' /><param name='language' value='en-GB' /></object></div>                <script type='text/javascript'>                    var divElement = document.getElementById('viz1712125970061');                    var vizElement = divElement.getElementsByTagName('object')[0];                    if ( divElement.offsetWidth > 800 ) { vizElement.style.width='1000px';vizElement.style.height='827px';} else if ( divElement.offsetWidth > 500 ) { vizElement.style.width='1000px';vizElement.style.height='827px';} else { vizElement.style.width='100%';vizElement.style.height='1327px';}                     var scriptElement = document.createElement('script');                    scriptElement.src = 'https://public.tableau.com/javascripts/api/viz_v1.js';                    vizElement.parentNode.insertBefore(scriptElement, vizElement);                </script>\n"
      ],
      "text/plain": [
       "<IPython.core.display.HTML object>"
      ]
     },
     "metadata": {},
     "output_type": "display_data"
    }
   ],
   "source": [
    "#Python code\n",
    "from IPython.display import display, HTML\n",
    "display(HTML(\"rrrr.html\"))"
   ]
  }
 ],
 "metadata": {
  "kernelspec": {
   "display_name": "R",
   "language": "R",
   "name": "ir"
  },
  "language_info": {
   "codemirror_mode": "r",
   "file_extension": ".r",
   "mimetype": "text/x-r-source",
   "name": "R",
   "pygments_lexer": "r",
   "version": "4.3.3"
  }
 },
 "nbformat": 4,
 "nbformat_minor": 5
}
